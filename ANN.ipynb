{
  "cells": [
    {
      "cell_type": "markdown",
      "metadata": {
        "id": "view-in-github",
        "colab_type": "text"
      },
      "source": [
        "<a href=\"https://colab.research.google.com/github/MinhQuan0000/AI_week7/blob/main/ANN.ipynb\" target=\"_parent\"><img src=\"https://colab.research.google.com/assets/colab-badge.svg\" alt=\"Open In Colab\"/></a>"
      ]
    },
    {
      "cell_type": "code",
      "source": [
        "pip install perception"
      ],
      "metadata": {
        "id": "u0v0IutkQ2nB",
        "outputId": "c9fef0af-9326-44a7-df0c-05c240093d05",
        "colab": {
          "base_uri": "https://localhost:8080/"
        }
      },
      "execution_count": null,
      "outputs": [
        {
          "output_type": "stream",
          "name": "stdout",
          "text": [
            "Looking in indexes: https://pypi.org/simple, https://us-python.pkg.dev/colab-wheels/public/simple/\n",
            "Collecting perception\n",
            "  Downloading perception-0.6.8-cp39-cp39-manylinux_2_12_x86_64.manylinux2010_x86_64.whl (2.1 MB)\n",
            "\u001b[2K     \u001b[90m━━━━━━━━━━━━━━━━━━━━━━━━━━━━━━━━━━━━━━━━\u001b[0m \u001b[32m2.1/2.1 MB\u001b[0m \u001b[31m13.0 MB/s\u001b[0m eta \u001b[36m0:00:00\u001b[0m\n",
            "\u001b[?25hRequirement already satisfied: numpy in /usr/local/lib/python3.9/dist-packages (from perception) (1.22.4)\n",
            "Requirement already satisfied: pywavelets in /usr/local/lib/python3.9/dist-packages (from perception) (1.4.1)\n",
            "Collecting validators>=0.12.4\n",
            "  Downloading validators-0.20.0.tar.gz (30 kB)\n",
            "  Preparing metadata (setup.py) ... \u001b[?25l\u001b[?25hdone\n",
            "Requirement already satisfied: scipy in /usr/local/lib/python3.9/dist-packages (from perception) (1.10.1)\n",
            "Requirement already satisfied: decorator>=3.4.0 in /usr/local/lib/python3.9/dist-packages (from validators>=0.12.4->perception) (4.4.2)\n",
            "Building wheels for collected packages: validators\n",
            "  Building wheel for validators (setup.py) ... \u001b[?25l\u001b[?25hdone\n",
            "  Created wheel for validators: filename=validators-0.20.0-py3-none-any.whl size=19579 sha256=269a04c75f844c0d8e819297cbd2f798a029b275c3c5d30d29a53e5a2963e550\n",
            "  Stored in directory: /root/.cache/pip/wheels/2d/f0/a8/1094fca7a7e5d0d12ff56e0c64675d72aa5cc81a5fc200e849\n",
            "Successfully built validators\n",
            "Installing collected packages: validators, perception\n",
            "Successfully installed perception-0.6.8 validators-0.20.0\n"
          ]
        }
      ]
    },
    {
      "cell_type": "code",
      "source": [
        "x=[[0,0],[1,0],[0,1],[1,1]]\n",
        "y=[0,1,1,1]"
      ],
      "metadata": {
        "id": "XB09TZH5TA-C"
      },
      "execution_count": null,
      "outputs": []
    },
    {
      "cell_type": "code",
      "source": [
        "from sklearn.linear_model import Perceptron\n",
        "\n",
        "x=[[-0.5,-0.5],[-0.5,0.5],[0.3,-0.5],[-0.1,1]]\n",
        "y=[1,1,0,0]\n",
        "model = Perceptron()\n",
        "model.fit(x,y)\n",
        "model.score(x,y)"
      ],
      "metadata": {
        "id": "SV7hRT4GJquk",
        "outputId": "2a86dbc7-a0ee-4354-9c17-d75daccf2fa1",
        "colab": {
          "base_uri": "https://localhost:8080/"
        }
      },
      "execution_count": 6,
      "outputs": [
        {
          "output_type": "execute_result",
          "data": {
            "text/plain": [
              "1.0"
            ]
          },
          "metadata": {},
          "execution_count": 6
        }
      ]
    },
    {
      "cell_type": "code",
      "source": [
        "x1=[[0.5,0],[0,0.5],[0.6,0]]\n",
        "y1=model.predict(x1)\n",
        "print(y1)"
      ],
      "metadata": {
        "id": "msZ5nVgGQmHJ",
        "colab": {
          "base_uri": "https://localhost:8080/"
        },
        "outputId": "e52debbe-3fd8-4a73-bb1b-49aaba0ab7ee"
      },
      "execution_count": 7,
      "outputs": [
        {
          "output_type": "stream",
          "name": "stdout",
          "text": [
            "[0 0 0]\n"
          ]
        }
      ]
    },
    {
      "cell_type": "code",
      "source": [
        "x2=[[-0.5,-0.5],[-0.5,0.5],[0.3,-0.5],[-0.1,1]]\n",
        "y2=model.predict(x2)\n",
        "print(y2)"
      ],
      "metadata": {
        "id": "b_HRGdx_RiVx",
        "colab": {
          "base_uri": "https://localhost:8080/"
        },
        "outputId": "3ede88fc-8e1a-4f03-84b8-7f3b7cababec"
      },
      "execution_count": 8,
      "outputs": [
        {
          "output_type": "stream",
          "name": "stdout",
          "text": [
            "[1 1 0 0]\n"
          ]
        }
      ]
    },
    {
      "cell_type": "code",
      "source": [
        "from sklearn.linear_model import Perceptron\n",
        "from sklearn import datasets\n",
        "from sklearn.model_selection import train_test_split\n",
        "from sklearn.metrics import accuracy_score\n",
        "from sklearn.preprocessing import StandardScaler"
      ],
      "metadata": {
        "id": "26CkXm12S6Mz"
      },
      "execution_count": 93,
      "outputs": []
    },
    {
      "cell_type": "code",
      "source": [
        "iris = datasets.load_iris()\n",
        "X=iris.data\n",
        "y=iris.target\n",
        "print(x[:5])\n",
        "print(y[:5])\n",
        "X_train,X_test,y_train,y_test = train_test_split(X,y,test_size=0.3)\n"
      ],
      "metadata": {
        "colab": {
          "base_uri": "https://localhost:8080/"
        },
        "id": "iBXErauhVYSp",
        "outputId": "24b214dc-0c16-42cc-a046-6e44f2fe0d7a"
      },
      "execution_count": 110,
      "outputs": [
        {
          "output_type": "stream",
          "name": "stdout",
          "text": [
            "[[-0.5, -0.5], [-0.5, 0.5], [0.3, -0.5], [-0.1, 1]]\n",
            "[0 0 0 0 0]\n"
          ]
        }
      ]
    },
    {
      "cell_type": "code",
      "source": [
        "sc=StandardScaler()\n",
        "sc.fit(X_train)\n",
        "X_train_std= sc.transform(X_train)\n",
        "X_test_std= sc.transform(X_test)\n",
        "#print(X_train,X_train_std)\n",
        "#print(X_test,X_test_std)"
      ],
      "metadata": {
        "id": "frK5OPIIWBTn"
      },
      "execution_count": 65,
      "outputs": []
    },
    {
      "cell_type": "code",
      "source": [
        "model = Perceptron(max_iter =1000000000, eta0=0.1,\n",
        "                   random_state=0)\n",
        "model.fit(X_train,y_train)\n",
        "y_pred = model.predict(X_test)\n",
        "print(y_pred)\n",
        "print(y_test)\n",
        "print(\"accuracy is\\n\",accuracy_score(y_test,y_pred))\n",
        "\n",
        "\n",
        "model = Perceptron(max_iter =1000000000, eta0=0.1,\n",
        "                   random_state=0)\n",
        "model.fit(X_train_std,y_train)\n",
        "y_pred = model.predict(X_test_std)\n",
        "print(y_pred)\n",
        "print(y_test)\n",
        "print(\"accuracy is\\n\",accuracy_score(y_test,y_pred))"
      ],
      "metadata": {
        "colab": {
          "base_uri": "https://localhost:8080/"
        },
        "id": "ivGkVjrVW3ZR",
        "outputId": "04aaa731-78b8-4a57-d639-d659c76c5cab"
      },
      "execution_count": 66,
      "outputs": [
        {
          "output_type": "stream",
          "name": "stdout",
          "text": [
            "[0 2 0 1 1 1 1 0 1 0 0 2 1 1 1 0 0 1 0 2 0 1 0 2 2 2 0 1 0 1 0 0 2 0 1 0 0\n",
            " 1 2 1 2 2 1 1 2]\n",
            "[0 2 0 2 2 1 1 0 1 0 0 2 1 1 1 0 0 2 0 2 0 1 0 2 2 2 0 1 0 1 0 0 2 0 1 0 0\n",
            " 1 2 1 2 2 1 1 2]\n",
            "accuracy is\n",
            " 0.9333333333333333\n",
            "[0 2 0 1 2 1 1 0 1 0 0 2 1 2 1 0 0 2 0 2 0 2 0 2 2 2 0 1 0 1 0 0 2 0 2 0 0\n",
            " 2 2 1 2 2 1 1 2]\n",
            "[0 2 0 2 2 1 1 0 1 0 0 2 1 1 1 0 0 2 0 2 0 1 0 2 2 2 0 1 0 1 0 0 2 0 1 0 0\n",
            " 1 2 1 2 2 1 1 2]\n",
            "accuracy is\n",
            " 0.8888888888888888\n"
          ]
        }
      ]
    },
    {
      "cell_type": "code",
      "source": [
        "import pandas as pd\n",
        "url ='crabs.csv'\n",
        "data = pd.read_csv(url)\n",
        "data['speies'].replace([\"O\", \"B\"], [1,0], inplace = True)\n",
        "data['sex'].replace(['M', 'F'], [1,0], inplace = True) \n",
        "data"
      ],
      "metadata": {
        "colab": {
          "base_uri": "https://localhost:8080/",
          "height": 423
        },
        "id": "fp8Pq-fqcMoo",
        "outputId": "23bb22aa-f123-4253-84ca-5e78018e922d"
      },
      "execution_count": 125,
      "outputs": [
        {
          "output_type": "execute_result",
          "data": {
            "text/plain": [
              "     speies  sex  index  fontallip  rearwidth  length  width  depth\n",
              "0         0    1      1        8.1        6.7    16.1   19.0    7.0\n",
              "1         0    1      2        8.8        7.7    18.1   20.8    7.4\n",
              "2         0    1      3        9.2        7.8    19.0   22.4    7.7\n",
              "3         0    1      4        9.6        7.9    20.1   23.1    8.2\n",
              "4         0    1      5        9.8        8.0    20.3   23.0    8.2\n",
              "..      ...  ...    ...        ...        ...     ...    ...    ...\n",
              "195       1    0     46       21.4       18.0    41.2   46.2   18.7\n",
              "196       1    0     47       21.7       17.1    41.7   47.2   19.6\n",
              "197       1    0     48       21.9       17.2    42.6   47.4   19.5\n",
              "198       1    0     49       22.5       17.2    43.0   48.7   19.8\n",
              "199       1    0     50       23.1       20.2    46.2   52.5   21.1\n",
              "\n",
              "[200 rows x 8 columns]"
            ],
            "text/html": [
              "\n",
              "  <div id=\"df-bd4636de-b894-4930-94cf-b7af050c609c\">\n",
              "    <div class=\"colab-df-container\">\n",
              "      <div>\n",
              "<style scoped>\n",
              "    .dataframe tbody tr th:only-of-type {\n",
              "        vertical-align: middle;\n",
              "    }\n",
              "\n",
              "    .dataframe tbody tr th {\n",
              "        vertical-align: top;\n",
              "    }\n",
              "\n",
              "    .dataframe thead th {\n",
              "        text-align: right;\n",
              "    }\n",
              "</style>\n",
              "<table border=\"1\" class=\"dataframe\">\n",
              "  <thead>\n",
              "    <tr style=\"text-align: right;\">\n",
              "      <th></th>\n",
              "      <th>speies</th>\n",
              "      <th>sex</th>\n",
              "      <th>index</th>\n",
              "      <th>fontallip</th>\n",
              "      <th>rearwidth</th>\n",
              "      <th>length</th>\n",
              "      <th>width</th>\n",
              "      <th>depth</th>\n",
              "    </tr>\n",
              "  </thead>\n",
              "  <tbody>\n",
              "    <tr>\n",
              "      <th>0</th>\n",
              "      <td>0</td>\n",
              "      <td>1</td>\n",
              "      <td>1</td>\n",
              "      <td>8.1</td>\n",
              "      <td>6.7</td>\n",
              "      <td>16.1</td>\n",
              "      <td>19.0</td>\n",
              "      <td>7.0</td>\n",
              "    </tr>\n",
              "    <tr>\n",
              "      <th>1</th>\n",
              "      <td>0</td>\n",
              "      <td>1</td>\n",
              "      <td>2</td>\n",
              "      <td>8.8</td>\n",
              "      <td>7.7</td>\n",
              "      <td>18.1</td>\n",
              "      <td>20.8</td>\n",
              "      <td>7.4</td>\n",
              "    </tr>\n",
              "    <tr>\n",
              "      <th>2</th>\n",
              "      <td>0</td>\n",
              "      <td>1</td>\n",
              "      <td>3</td>\n",
              "      <td>9.2</td>\n",
              "      <td>7.8</td>\n",
              "      <td>19.0</td>\n",
              "      <td>22.4</td>\n",
              "      <td>7.7</td>\n",
              "    </tr>\n",
              "    <tr>\n",
              "      <th>3</th>\n",
              "      <td>0</td>\n",
              "      <td>1</td>\n",
              "      <td>4</td>\n",
              "      <td>9.6</td>\n",
              "      <td>7.9</td>\n",
              "      <td>20.1</td>\n",
              "      <td>23.1</td>\n",
              "      <td>8.2</td>\n",
              "    </tr>\n",
              "    <tr>\n",
              "      <th>4</th>\n",
              "      <td>0</td>\n",
              "      <td>1</td>\n",
              "      <td>5</td>\n",
              "      <td>9.8</td>\n",
              "      <td>8.0</td>\n",
              "      <td>20.3</td>\n",
              "      <td>23.0</td>\n",
              "      <td>8.2</td>\n",
              "    </tr>\n",
              "    <tr>\n",
              "      <th>...</th>\n",
              "      <td>...</td>\n",
              "      <td>...</td>\n",
              "      <td>...</td>\n",
              "      <td>...</td>\n",
              "      <td>...</td>\n",
              "      <td>...</td>\n",
              "      <td>...</td>\n",
              "      <td>...</td>\n",
              "    </tr>\n",
              "    <tr>\n",
              "      <th>195</th>\n",
              "      <td>1</td>\n",
              "      <td>0</td>\n",
              "      <td>46</td>\n",
              "      <td>21.4</td>\n",
              "      <td>18.0</td>\n",
              "      <td>41.2</td>\n",
              "      <td>46.2</td>\n",
              "      <td>18.7</td>\n",
              "    </tr>\n",
              "    <tr>\n",
              "      <th>196</th>\n",
              "      <td>1</td>\n",
              "      <td>0</td>\n",
              "      <td>47</td>\n",
              "      <td>21.7</td>\n",
              "      <td>17.1</td>\n",
              "      <td>41.7</td>\n",
              "      <td>47.2</td>\n",
              "      <td>19.6</td>\n",
              "    </tr>\n",
              "    <tr>\n",
              "      <th>197</th>\n",
              "      <td>1</td>\n",
              "      <td>0</td>\n",
              "      <td>48</td>\n",
              "      <td>21.9</td>\n",
              "      <td>17.2</td>\n",
              "      <td>42.6</td>\n",
              "      <td>47.4</td>\n",
              "      <td>19.5</td>\n",
              "    </tr>\n",
              "    <tr>\n",
              "      <th>198</th>\n",
              "      <td>1</td>\n",
              "      <td>0</td>\n",
              "      <td>49</td>\n",
              "      <td>22.5</td>\n",
              "      <td>17.2</td>\n",
              "      <td>43.0</td>\n",
              "      <td>48.7</td>\n",
              "      <td>19.8</td>\n",
              "    </tr>\n",
              "    <tr>\n",
              "      <th>199</th>\n",
              "      <td>1</td>\n",
              "      <td>0</td>\n",
              "      <td>50</td>\n",
              "      <td>23.1</td>\n",
              "      <td>20.2</td>\n",
              "      <td>46.2</td>\n",
              "      <td>52.5</td>\n",
              "      <td>21.1</td>\n",
              "    </tr>\n",
              "  </tbody>\n",
              "</table>\n",
              "<p>200 rows × 8 columns</p>\n",
              "</div>\n",
              "      <button class=\"colab-df-convert\" onclick=\"convertToInteractive('df-bd4636de-b894-4930-94cf-b7af050c609c')\"\n",
              "              title=\"Convert this dataframe to an interactive table.\"\n",
              "              style=\"display:none;\">\n",
              "        \n",
              "  <svg xmlns=\"http://www.w3.org/2000/svg\" height=\"24px\"viewBox=\"0 0 24 24\"\n",
              "       width=\"24px\">\n",
              "    <path d=\"M0 0h24v24H0V0z\" fill=\"none\"/>\n",
              "    <path d=\"M18.56 5.44l.94 2.06.94-2.06 2.06-.94-2.06-.94-.94-2.06-.94 2.06-2.06.94zm-11 1L8.5 8.5l.94-2.06 2.06-.94-2.06-.94L8.5 2.5l-.94 2.06-2.06.94zm10 10l.94 2.06.94-2.06 2.06-.94-2.06-.94-.94-2.06-.94 2.06-2.06.94z\"/><path d=\"M17.41 7.96l-1.37-1.37c-.4-.4-.92-.59-1.43-.59-.52 0-1.04.2-1.43.59L10.3 9.45l-7.72 7.72c-.78.78-.78 2.05 0 2.83L4 21.41c.39.39.9.59 1.41.59.51 0 1.02-.2 1.41-.59l7.78-7.78 2.81-2.81c.8-.78.8-2.07 0-2.86zM5.41 20L4 18.59l7.72-7.72 1.47 1.35L5.41 20z\"/>\n",
              "  </svg>\n",
              "      </button>\n",
              "      \n",
              "  <style>\n",
              "    .colab-df-container {\n",
              "      display:flex;\n",
              "      flex-wrap:wrap;\n",
              "      gap: 12px;\n",
              "    }\n",
              "\n",
              "    .colab-df-convert {\n",
              "      background-color: #E8F0FE;\n",
              "      border: none;\n",
              "      border-radius: 50%;\n",
              "      cursor: pointer;\n",
              "      display: none;\n",
              "      fill: #1967D2;\n",
              "      height: 32px;\n",
              "      padding: 0 0 0 0;\n",
              "      width: 32px;\n",
              "    }\n",
              "\n",
              "    .colab-df-convert:hover {\n",
              "      background-color: #E2EBFA;\n",
              "      box-shadow: 0px 1px 2px rgba(60, 64, 67, 0.3), 0px 1px 3px 1px rgba(60, 64, 67, 0.15);\n",
              "      fill: #174EA6;\n",
              "    }\n",
              "\n",
              "    [theme=dark] .colab-df-convert {\n",
              "      background-color: #3B4455;\n",
              "      fill: #D2E3FC;\n",
              "    }\n",
              "\n",
              "    [theme=dark] .colab-df-convert:hover {\n",
              "      background-color: #434B5C;\n",
              "      box-shadow: 0px 1px 3px 1px rgba(0, 0, 0, 0.15);\n",
              "      filter: drop-shadow(0px 1px 2px rgba(0, 0, 0, 0.3));\n",
              "      fill: #FFFFFF;\n",
              "    }\n",
              "  </style>\n",
              "\n",
              "      <script>\n",
              "        const buttonEl =\n",
              "          document.querySelector('#df-bd4636de-b894-4930-94cf-b7af050c609c button.colab-df-convert');\n",
              "        buttonEl.style.display =\n",
              "          google.colab.kernel.accessAllowed ? 'block' : 'none';\n",
              "\n",
              "        async function convertToInteractive(key) {\n",
              "          const element = document.querySelector('#df-bd4636de-b894-4930-94cf-b7af050c609c');\n",
              "          const dataTable =\n",
              "            await google.colab.kernel.invokeFunction('convertToInteractive',\n",
              "                                                     [key], {});\n",
              "          if (!dataTable) return;\n",
              "\n",
              "          const docLinkHtml = 'Like what you see? Visit the ' +\n",
              "            '<a target=\"_blank\" href=https://colab.research.google.com/notebooks/data_table.ipynb>data table notebook</a>'\n",
              "            + ' to learn more about interactive tables.';\n",
              "          element.innerHTML = '';\n",
              "          dataTable['output_type'] = 'display_data';\n",
              "          await google.colab.output.renderOutput(dataTable, element);\n",
              "          const docLink = document.createElement('div');\n",
              "          docLink.innerHTML = docLinkHtml;\n",
              "          element.appendChild(docLink);\n",
              "        }\n",
              "      </script>\n",
              "    </div>\n",
              "  </div>\n",
              "  "
            ]
          },
          "metadata": {},
          "execution_count": 125
        }
      ]
    },
    {
      "cell_type": "code",
      "source": [
        "import pandas as pd \n",
        "from sklearn.linear_model import Perceptron\n",
        "from sklearn.model_selection import train_test_split\n",
        "from sklearn.metrics import accuracy_score\n",
        "from sklearn.preprocessing import StandardScaler\n",
        "x = pd.DataFrame([data['speies'],data['index'],data['fontallip'],data['rearwidth'],data['length'],data['width'],data['depth']]).T\n",
        "y = data['sex']\n",
        "\n",
        "print(x[:5])\n",
        "print(y[:5])\n",
        "\n",
        "x_train, x_test, y_train, y_test = train_test_split(x,y,test_size = 0.3)"
      ],
      "metadata": {
        "colab": {
          "base_uri": "https://localhost:8080/"
        },
        "id": "TdADbMicmelB",
        "outputId": "47cd0f22-ef5a-4de6-8c39-da0e23653662"
      },
      "execution_count": 126,
      "outputs": [
        {
          "output_type": "stream",
          "name": "stdout",
          "text": [
            "   speies  index  fontallip  rearwidth  length  width  depth\n",
            "0     0.0    1.0        8.1        6.7    16.1   19.0    7.0\n",
            "1     0.0    2.0        8.8        7.7    18.1   20.8    7.4\n",
            "2     0.0    3.0        9.2        7.8    19.0   22.4    7.7\n",
            "3     0.0    4.0        9.6        7.9    20.1   23.1    8.2\n",
            "4     0.0    5.0        9.8        8.0    20.3   23.0    8.2\n",
            "0    1\n",
            "1    1\n",
            "2    1\n",
            "3    1\n",
            "4    1\n",
            "Name: sex, dtype: int64\n"
          ]
        }
      ]
    },
    {
      "cell_type": "code",
      "source": [
        "sc = StandardScaler()   # đã scale\n",
        "sc.fit(x_train)\n",
        "x_train_std = sc.transform(x_train)\n",
        "x_test_std  = sc.transform(x_test)\n",
        "\n",
        "print(x_train[:5], x_train_std[:5]) "
      ],
      "metadata": {
        "colab": {
          "base_uri": "https://localhost:8080/"
        },
        "id": "KqZz12EufXbM",
        "outputId": "a52965d0-ad1b-4147-a8a4-d82c6a3c1fd9"
      },
      "execution_count": 128,
      "outputs": [
        {
          "output_type": "stream",
          "name": "stdout",
          "text": [
            "     speies  index  fontallip  rearwidth  length  width  depth\n",
            "198     1.0   49.0       22.5       17.2    43.0   48.7   19.8\n",
            "22      0.0   23.0       15.0       10.9    31.4   36.4   13.2\n",
            "162     1.0   13.0       15.6       14.0    31.6   35.3   13.8\n",
            "94      0.0   45.0       16.2       15.2    34.5   40.1   13.9\n",
            "17      0.0   18.0       13.1       10.9    28.3   32.4   11.2 [[ 0.98581488  1.57113652  2.00438481  1.79088027  1.53856713  1.56098384\n",
            "   1.70862444]\n",
            " [-1.01438923 -0.24844252 -0.25741428 -0.84434895 -0.18665072 -0.08689145\n",
            "  -0.33535405]\n",
            " [ 0.98581488 -0.94828062 -0.07647035  0.45235114 -0.15690559 -0.23426241\n",
            "  -0.14953782]\n",
            " [-1.01438923  1.29120128  0.10447358  0.95429956  0.27439887  0.40881087\n",
            "  -0.11856845]\n",
            " [-1.01438923 -0.59836157 -0.83040338 -0.84434895 -0.64770032 -0.62278585\n",
            "  -0.95474146]]\n"
          ]
        }
      ]
    },
    {
      "cell_type": "code",
      "source": [
        "\n",
        "model = Perceptron(max_iter = 1000, eta0 = 0.1,random_state = 0 )   #max_iter: số lần học, eta0: tốc độ học, random_state: lấy ngẫu nhiên \n",
        "model.fit(x_train, y_train)\n",
        "y_pred = model.predict(x_test)\n",
        "print(y_pred[:5])\n",
        "print(y_test[:5])\n",
        "print(\"độ chính xác mô hình chưa sờ'ssssss ceo:\",accuracy_score(y_test, y_pred))\n",
        "\n",
        "model = Perceptron(max_iter = 1000, eta0 = 0.1,random_state = 0)\n",
        "model.fit(x_train_std, y_train)\n",
        "y_pred = model.predict(x_test_std)\n",
        "print(y_pred[:5])\n",
        "print(y_test[:5])\n",
        "print(\"độ chính xác mô hình đã sờ'ssssss ceo:\",accuracy_score(y_test, y_pred))"
      ],
      "metadata": {
        "colab": {
          "base_uri": "https://localhost:8080/"
        },
        "id": "jEB3j0walBfP",
        "outputId": "6d370958-8a09-4fda-a88e-f9f1bcdcc814"
      },
      "execution_count": 129,
      "outputs": [
        {
          "output_type": "stream",
          "name": "stdout",
          "text": [
            "[0 1 1 0 1]\n",
            "61     0\n",
            "138    1\n",
            "38     1\n",
            "102    1\n",
            "41     1\n",
            "Name: sex, dtype: int64\n",
            "độ chính xác mô hình chưa sờ'ssssss ceo: 0.9666666666666667\n",
            "[0 1 1 0 1]\n",
            "61     0\n",
            "138    1\n",
            "38     1\n",
            "102    1\n",
            "41     1\n",
            "Name: sex, dtype: int64\n",
            "độ chính xác mô hình đã sờ'ssssss ceo: 0.7333333333333333\n"
          ]
        }
      ]
    },
    {
      "cell_type": "code",
      "source": [
        "url ='lung_cancer_examples.csv'\n",
        "data = pd.read_csv(url)\n"
      ],
      "metadata": {
        "id": "Yzw7IP4rZLTF"
      },
      "execution_count": 130,
      "outputs": []
    },
    {
      "cell_type": "code",
      "source": [
        "import pandas as pd \n",
        "from sklearn.linear_model import Perceptron\n",
        "from sklearn.model_selection import train_test_split\n",
        "from sklearn.metrics import accuracy_score\n",
        "from sklearn.preprocessing import StandardScaler\n",
        "x = pd.DataFrame([data['Age'],data['Smokes'],data['AreaQ'],data['Alkhol']]).T\n",
        "y = data['Result']\n",
        "\n",
        "print(x[:5])\n",
        "print(y[:5])\n",
        "\n",
        "x_train, x_test, y_train, y_test = train_test_split(x,y,test_size = 0.3)"
      ],
      "metadata": {
        "colab": {
          "base_uri": "https://localhost:8080/"
        },
        "id": "_FzLkrAppr53",
        "outputId": "7b253a5c-b503-4053-bebd-05b0e25a60b1"
      },
      "execution_count": 131,
      "outputs": [
        {
          "output_type": "stream",
          "name": "stdout",
          "text": [
            "   Age  Smokes  AreaQ  Alkhol\n",
            "0   35       3      5       4\n",
            "1   27      20      2       5\n",
            "2   30       0      5       2\n",
            "3   28       0      8       1\n",
            "4   68       4      5       6\n",
            "0    1\n",
            "1    1\n",
            "2    0\n",
            "3    0\n",
            "4    1\n",
            "Name: Result, dtype: int64\n"
          ]
        }
      ]
    },
    {
      "cell_type": "code",
      "source": [
        "sc = StandardScaler()   # đã scale\n",
        "sc.fit(x_train)\n",
        "x_train_std = sc.transform(x_train)\n",
        "x_test_std  = sc.transform(x_test)\n",
        "\n",
        "print(x_train[:5], x_train_std[:5]) "
      ],
      "metadata": {
        "colab": {
          "base_uri": "https://localhost:8080/"
        },
        "id": "ljUPh3uvr-wg",
        "outputId": "913ce18a-c6a8-4aca-a68c-e50841f1889a"
      },
      "execution_count": 132,
      "outputs": [
        {
          "output_type": "stream",
          "name": "stdout",
          "text": [
            "    Age  Smokes  AreaQ  Alkhol\n",
            "12   25       2      5       1\n",
            "35   25      20      8       2\n",
            "50   42      12      6       2\n",
            "34   26      10      7       2\n",
            "32   47      15      1       8 [[-1.1111406  -1.8258293  -0.08506479 -0.93884204]\n",
            " [-1.1111406   0.51758291  1.0774874  -0.54606119]\n",
            " [-0.01880633 -0.52393362  0.3024526  -0.54606119]\n",
            " [-1.04688564 -0.78431276  0.68997    -0.54606119]\n",
            " [ 0.30246846 -0.13336492 -1.63513439  1.81062393]]\n"
          ]
        }
      ]
    },
    {
      "cell_type": "code",
      "source": [
        "model = Perceptron(max_iter = 1000000000, eta0 = 0.1,random_state = 0 )   #max_iter: số lần học, eta0: tốc độ học, random_state: lấy ngẫu nhiên \n",
        "model.fit(x_train, y_train)\n",
        "y_pred = model.predict(x_test)\n",
        "print(y_pred[:5])\n",
        "print(y_test[:5])\n",
        "print(\"độ chính xác mô hình chưa sờ:\",accuracy_score(y_test, y_pred))\n",
        "\n",
        "model = Perceptron(max_iter = 1000000000, eta0 = 0.1,random_state = 0)\n",
        "model.fit(x_train_std, y_train)\n",
        "y_pred = model.predict(x_test_std)\n",
        "print(y_pred[:5])\n",
        "print(y_test[:5])\n",
        "print(\"độ chính xác mô hình đã sờ:\",accuracy_score(y_test, y_pred))"
      ],
      "metadata": {
        "colab": {
          "base_uri": "https://localhost:8080/"
        },
        "id": "qHKRaeecsCGV",
        "outputId": "60a040da-4e83-41cf-c759-94c833ff6c84"
      },
      "execution_count": 147,
      "outputs": [
        {
          "output_type": "stream",
          "name": "stdout",
          "text": [
            "[0 1 0 1 1]\n",
            "490    0\n",
            "380    0\n",
            "173    0\n",
            "245    0\n",
            "735    0\n",
            "Name: 1, dtype: int64\n",
            "độ chính xác mô hình chưa sờ: 0.49783549783549785\n",
            "[0 0 0 0 0]\n",
            "490    0\n",
            "380    0\n",
            "173    0\n",
            "245    0\n",
            "735    0\n",
            "Name: 1, dtype: int64\n",
            "độ chính xác mô hình đã sờ: 0.7402597402597403\n"
          ]
        }
      ]
    },
    {
      "cell_type": "code",
      "source": [
        "url ='pima-indians-diabetes.csv'\n",
        "data = pd.read_csv(url)"
      ],
      "metadata": {
        "id": "kos8H1JhsHlU"
      },
      "execution_count": 148,
      "outputs": []
    },
    {
      "cell_type": "code",
      "source": [
        "import pandas as pd \n",
        "from sklearn.linear_model import Perceptron\n",
        "from sklearn.model_selection import train_test_split\n",
        "from sklearn.metrics import accuracy_score\n",
        "from sklearn.preprocessing import StandardScaler\n",
        "x = pd.DataFrame([data['6'],data['148'],data['72'],data['35'],data['0'],data['33.6'],data['0.627'],data['50']]).T\n",
        "y = data['1']\n",
        "\n",
        "print(x[:5])\n",
        "print(y[:5])\n",
        "\n",
        "x_train, x_test, y_train, y_test = train_test_split(x,y,test_size = 0.3)"
      ],
      "metadata": {
        "id": "X9_9ATn6tt__"
      },
      "execution_count": null,
      "outputs": []
    },
    {
      "cell_type": "code",
      "source": [
        "sc = StandardScaler()   # đã scale\n",
        "sc.fit(x_train)\n",
        "x_train_std = sc.transform(x_train)\n",
        "x_test_std  = sc.transform(x_test)\n",
        "\n",
        "print(x_train[:5], x_train_std[:5]) "
      ],
      "metadata": {
        "id": "EmB7kxo1uT8_"
      },
      "execution_count": null,
      "outputs": []
    },
    {
      "cell_type": "code",
      "source": [
        "model = Perceptron(max_iter = 1000000000, eta0 = 0.1,random_state = 0 )   #max_iter: số lần học, eta0: tốc độ học, random_state: lấy ngẫu nhiên \n",
        "model.fit(x_train, y_train)\n",
        "y_pred = model.predict(x_test)\n",
        "print(y_pred[:5])\n",
        "print(y_test[:5])\n",
        "print(\"độ chính xác mô hình chưa sờ:\",accuracy_score(y_test, y_pred))\n",
        "\n",
        "model = Perceptron(max_iter = 1000000000, eta0 = 0.1,random_state = 0)\n",
        "model.fit(x_train_std, y_train)\n",
        "y_pred = model.predict(x_test_std)\n",
        "print(y_pred[:5])\n",
        "print(y_test[:5])\n",
        "print(\"độ chính xác mô hình đã sờ:\",accuracy_score(y_test, y_pred))"
      ],
      "metadata": {
        "colab": {
          "base_uri": "https://localhost:8080/"
        },
        "id": "xXPp3T_wuUbI",
        "outputId": "37b9c438-c45c-4e1d-e65a-dcb9dd64db5a"
      },
      "execution_count": 151,
      "outputs": [
        {
          "output_type": "stream",
          "name": "stdout",
          "text": [
            "[0 1 0 1 1]\n",
            "118    0\n",
            "387    1\n",
            "224    0\n",
            "714    1\n",
            "553    0\n",
            "Name: 1, dtype: int64\n",
            "độ chính xác mô hình chưa sờ: 0.5800865800865801\n",
            "[0 0 1 0 1]\n",
            "118    0\n",
            "387    1\n",
            "224    0\n",
            "714    1\n",
            "553    0\n",
            "Name: 1, dtype: int64\n",
            "độ chính xác mô hình đã sờ: 0.5497835497835498\n"
          ]
        }
      ]
    },
    {
      "cell_type": "code",
      "source": [],
      "metadata": {
        "id": "1cl4Uy-nuYl2"
      },
      "execution_count": 150,
      "outputs": []
    }
  ],
  "metadata": {
    "colab": {
      "provenance": [],
      "include_colab_link": true
    },
    "kernelspec": {
      "display_name": "Python 3",
      "name": "python3"
    }
  },
  "nbformat": 4,
  "nbformat_minor": 0
}